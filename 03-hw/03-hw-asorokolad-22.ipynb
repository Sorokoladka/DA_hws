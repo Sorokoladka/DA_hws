{
 "cells": [
  {
   "cell_type": "code",
   "execution_count": 1,
   "id": "15eaeafd-c640-4228-b3bd-40a4280346b6",
   "metadata": {},
   "outputs": [],
   "source": [
    "import numpy as np \n",
    "import pandas as pd \n",
    "from datetime import datetime, timedelta\n",
    "import matplotlib.pyplot as plt\n",
    "import seaborn as sns\n",
    "import warnings"
   ]
  },
  {
   "cell_type": "code",
   "execution_count": 2,
   "id": "d7edab3b-11f8-44c2-94bf-3b5766e1b4b5",
   "metadata": {},
   "outputs": [],
   "source": [
    "warnings.filterwarnings('ignore')"
   ]
  },
  {
   "cell_type": "markdown",
   "id": "89039dd1-b9d5-4def-8e34-662700089b83",
   "metadata": {},
   "source": [
    "Датасет - `bus_table.csv`\n",
    "- `data` - дата\n",
    "- `route` - название маршрута автобуса\n",
    "- `direction` - направление маршрута\n",
    "- `scheduled` - время прибыттия по расписанию\n",
    "- `actual` - фактическое время прибытия"
   ]
  },
  {
   "cell_type": "markdown",
   "id": "ad8455ec-ec30-48f9-9926-a0247958827f",
   "metadata": {},
   "source": [
    "## Задание 1\n",
    "Прочитайте файл, сохранив результаты в `df`. Посмотрите статистики и инфо."
   ]
  },
  {
   "cell_type": "code",
   "execution_count": 5,
   "id": "f0eb4eee-c5f3-4964-8769-cd9a51bdecc1",
   "metadata": {},
   "outputs": [
    {
     "name": "stdout",
     "output_type": "stream",
     "text": [
      "<class 'pandas.core.frame.DataFrame'>\n",
      "Index: 39157 entries, 0 to 39156\n",
      "Data columns (total 5 columns):\n",
      " #   Column     Non-Null Count  Dtype \n",
      "---  ------     --------------  ----- \n",
      " 0   data       39157 non-null  object\n",
      " 1   route      39157 non-null  object\n",
      " 2   direction  39157 non-null  object\n",
      " 3   scheduled  38917 non-null  object\n",
      " 4   actual     39157 non-null  object\n",
      "dtypes: object(5)\n",
      "memory usage: 1.8+ MB\n"
     ]
    },
    {
     "data": {
      "text/html": [
       "<div>\n",
       "<style scoped>\n",
       "    .dataframe tbody tr th:only-of-type {\n",
       "        vertical-align: middle;\n",
       "    }\n",
       "\n",
       "    .dataframe tbody tr th {\n",
       "        vertical-align: top;\n",
       "    }\n",
       "\n",
       "    .dataframe thead th {\n",
       "        text-align: right;\n",
       "    }\n",
       "</style>\n",
       "<table border=\"1\" class=\"dataframe\">\n",
       "  <thead>\n",
       "    <tr style=\"text-align: right;\">\n",
       "      <th></th>\n",
       "      <th>data</th>\n",
       "      <th>route</th>\n",
       "      <th>direction</th>\n",
       "      <th>scheduled</th>\n",
       "      <th>actual</th>\n",
       "    </tr>\n",
       "  </thead>\n",
       "  <tbody>\n",
       "    <tr>\n",
       "      <th>count</th>\n",
       "      <td>39157</td>\n",
       "      <td>39157</td>\n",
       "      <td>39157</td>\n",
       "      <td>38917</td>\n",
       "      <td>39157</td>\n",
       "    </tr>\n",
       "    <tr>\n",
       "      <th>unique</th>\n",
       "      <td>63</td>\n",
       "      <td>3</td>\n",
       "      <td>2</td>\n",
       "      <td>1356</td>\n",
       "      <td>27633</td>\n",
       "    </tr>\n",
       "    <tr>\n",
       "      <th>top</th>\n",
       "      <td>2016-04-14</td>\n",
       "      <td>A</td>\n",
       "      <td>north</td>\n",
       "      <td>23:00:25</td>\n",
       "      <td>08:08:24</td>\n",
       "    </tr>\n",
       "    <tr>\n",
       "      <th>freq</th>\n",
       "      <td>693</td>\n",
       "      <td>13358</td>\n",
       "      <td>19686</td>\n",
       "      <td>64</td>\n",
       "      <td>8</td>\n",
       "    </tr>\n",
       "  </tbody>\n",
       "</table>\n",
       "</div>"
      ],
      "text/plain": [
       "              data  route direction scheduled    actual\n",
       "count        39157  39157     39157     38917     39157\n",
       "unique          63      3         2      1356     27633\n",
       "top     2016-04-14      A     north  23:00:25  08:08:24\n",
       "freq           693  13358     19686        64         8"
      ]
     },
     "execution_count": 5,
     "metadata": {},
     "output_type": "execute_result"
    }
   ],
   "source": [
    "df = pd.read_csv('bus_table.csv')\n",
    "df.info()\n",
    "df.describe()"
   ]
  },
  {
   "cell_type": "markdown",
   "id": "5162595c-6b19-4171-9f54-aa99d9ab0d9c",
   "metadata": {},
   "source": [
    "## Задание 2\n",
    "Вырежте пропушеные данные (сохраните их в DataFrame `df_null`, они вам еще понадобятся) и удалите их из `df`. Выведите размерность `df_null`."
   ]
  },
  {
   "cell_type": "code",
   "execution_count": 7,
   "id": "2c520078-f455-438c-9774-4fd15efd0964",
   "metadata": {},
   "outputs": [
    {
     "data": {
      "text/plain": [
       "(240, 5)"
      ]
     },
     "execution_count": 7,
     "metadata": {},
     "output_type": "execute_result"
    }
   ],
   "source": [
    "df_copy = df.copy()\n",
    "df_null = df_copy[df_copy.isna().any(axis=1)]\n",
    "df.dropna(inplace=True)\n",
    "df_null.shape"
   ]
  },
  {
   "cell_type": "markdown",
   "id": "9f5d79ac-7e89-4eb2-bd24-5c08d5a2a304",
   "metadata": {},
   "source": [
    "## Задание 3\n",
    "1. Добавьте столбец `table` дату/время прибытия автобусов по расписанию на остановку. \n",
    "2. Добавьте столбец `arrival` дату/временя актуального прибытия автобуса на остановку.\n"
   ]
  },
  {
   "cell_type": "code",
   "execution_count": 9,
   "id": "5469b010-0085-4500-8d69-90e8cfeed64b",
   "metadata": {},
   "outputs": [],
   "source": [
    "df['table'] = df['data'] + ' ' + df['scheduled']\n",
    "df['table'] = df['table'].apply(lambda x: datetime.strptime(x, '%Y-%m-%d %H:%M:%S'))"
   ]
  },
  {
   "cell_type": "code",
   "execution_count": 10,
   "id": "6157b98d",
   "metadata": {},
   "outputs": [],
   "source": [
    "df['arrival'] = df['data'] + ' ' + df['actual']\n",
    "df['arrival'] = df['arrival'].apply(lambda x: datetime.strptime(x, '%Y-%m-%d %H:%M:%S'))"
   ]
  },
  {
   "cell_type": "code",
   "execution_count": 11,
   "id": "ec4c030d",
   "metadata": {},
   "outputs": [],
   "source": [
    "index_of_errors1 = df[(df['arrival'] - df['table']) > timedelta(hours=12)].index\n",
    "df.loc[index_of_errors1, 'arrival'] = df['arrival'] - timedelta(days=1)"
   ]
  },
  {
   "cell_type": "code",
   "execution_count": 12,
   "id": "cc802f7d",
   "metadata": {},
   "outputs": [],
   "source": [
    "index_of_errors2 = df[(df['table'] - df['arrival']) > timedelta(hours=12)].index\n",
    "df.loc[index_of_errors2, 'arrival'] = df['arrival'] + timedelta(days=1)"
   ]
  },
  {
   "cell_type": "markdown",
   "id": "25e7c0ad",
   "metadata": {},
   "source": [
    "*будем считать, что нельзя ставить в расписание прибытие автобуса (одинакового пути и направления) в одно и то же время*"
   ]
  },
  {
   "cell_type": "code",
   "execution_count": 14,
   "id": "6e0dbdd7",
   "metadata": {},
   "outputs": [],
   "source": [
    "df.drop_duplicates(subset=['route', 'direction', 'table'], inplace=True)"
   ]
  },
  {
   "cell_type": "markdown",
   "id": "571d7107-e06e-4c03-bb20-48a1c52bcd8d",
   "metadata": {},
   "source": [
    "## Задание 4\n",
    "1. Найдите три самых часто встречаюшихся в расписании автобусов временных интервалов (естественно для каждой возможной пары номер маршрута-направление).\n",
    "\n",
    "2. Добавьте в таблицу столбик `inteval` - интервал по расписаню между автобусами (естественно одного маршрута и направления) в МИНУТАХ.\n",
    "\n",
    "3. Добавьте в таблицу столбик `arr_inteval` - интервал по фактическому между автобусами (естественно одного маршрута и направления) в МИНУТАХ."
   ]
  },
  {
   "cell_type": "code",
   "execution_count": 16,
   "id": "72bdd6f5-c9e1-45f3-b83c-45545e78ebd9",
   "metadata": {},
   "outputs": [],
   "source": [
    "df = df.set_index(['route', 'direction']).sort_values(['route', 'direction', 'table'])\n",
    "df['interval'] = df['table'].diff()\n",
    "df['interval'] = df['interval'].apply(lambda x: x.seconds / 60)\n",
    "df.reset_index(inplace=True)"
   ]
  },
  {
   "cell_type": "code",
   "execution_count": 17,
   "id": "be0c4147",
   "metadata": {},
   "outputs": [],
   "source": [
    "index_of_errors3 = df[(df['route'].shift(1) != df['route']) | (df['direction'].shift(1) != df['direction'])].index\n",
    "df.loc[index_of_errors3, 'interval'] = np.nan"
   ]
  },
  {
   "cell_type": "code",
   "execution_count": 18,
   "id": "b3f08ef9",
   "metadata": {},
   "outputs": [],
   "source": [
    "df = df.set_index(['route', 'direction']).sort_values(['route', 'direction', 'arrival'])\n",
    "df['arr_interval'] = df['arrival'].diff()\n",
    "df['arr_interval'] = df['arr_interval'].apply(lambda x: x.seconds / 60)\n",
    "df.reset_index(inplace=True)"
   ]
  },
  {
   "cell_type": "code",
   "execution_count": 19,
   "id": "66baadb9",
   "metadata": {},
   "outputs": [],
   "source": [
    "index_of_errors4 = df[(df['route'].shift(1) != df['route']) | (df['direction'].shift(1) != df['direction'])].index\n",
    "df.loc[index_of_errors4, 'arr_interval'] = np.nan"
   ]
  },
  {
   "cell_type": "code",
   "execution_count": 20,
   "id": "4268250b",
   "metadata": {},
   "outputs": [
    {
     "data": {
      "text/plain": [
       "route  direction  interval\n",
       "A      north      12.0        1434\n",
       "                  15.0        1377\n",
       "                  7.0          756\n",
       "       south      15.0        1453\n",
       "                  12.0        1312\n",
       "                  8.0          710\n",
       "B      north      15.0        1507\n",
       "                  12.0        1413\n",
       "                  8.0         1141\n",
       "       south      15.0        1391\n",
       "                  12.0        1300\n",
       "                  8.0         1159\n",
       "C      north      10.0        1869\n",
       "                  15.0         590\n",
       "                  6.0          552\n",
       "       south      10.0        1342\n",
       "                  12.0        1087\n",
       "                  15.0        1049\n",
       "Name: data, dtype: int64"
      ]
     },
     "execution_count": 20,
     "metadata": {},
     "output_type": "execute_result"
    }
   ],
   "source": [
    "temp = df.pivot_table(index=['route', 'direction', 'interval'], values='data', aggfunc='count').reset_index().set_index('interval')\n",
    "temp.groupby(['route', 'direction'])['data'].nlargest(3)"
   ]
  },
  {
   "cell_type": "markdown",
   "id": "c35f3966-5a2c-4b94-a9de-8741cfd7497e",
   "metadata": {},
   "source": [
    "## Задание 5\n",
    "Найдите время в минутах для опоздания авдобуса (+ задержка, - раньше расписания)"
   ]
  },
  {
   "cell_type": "code",
   "execution_count": 22,
   "id": "cf2b3a59-657d-444f-9c49-38025c1fbbf8",
   "metadata": {},
   "outputs": [],
   "source": [
    "df['late'] = df['arrival'] - df['table']\n",
    "df['late'] = df['late'].apply(lambda x: x.seconds / 60 + x.days * 24 * 60)"
   ]
  },
  {
   "cell_type": "markdown",
   "id": "201d958b-b89a-4869-85e2-29d4e27750ee",
   "metadata": {},
   "source": [
    "## Задание 6\n",
    "1. Постройте максимально качественные гистограммы (или их аналоги) для разницы интервалов между автобусами для различных маршрутов и направлений.\n",
    "\n",
    "2. Постройте максимально качественные гистограммы (или их аналоги) времени опоздания автобуса в зависимости от маршрута и направления.\n",
    "\n",
    "   Увидели абсурд - возращаемся к началу и латаем код ;)\n",
    "   *ps: да, увидела, автобус опаздывает на сутки))))*"
   ]
  },
  {
   "cell_type": "code",
   "execution_count": 24,
   "id": "cea55bd8",
   "metadata": {},
   "outputs": [
    {
     "data": {
      "image/png": "[encoded data removed]",
      "text/plain": [
       "<Figure size 588.625x500 with 1 Axes>"
      ]
     },
     "metadata": {},
     "output_type": "display_data"
    }
   ],
   "source": [
    "df['interval_diff'] = df['interval'] - df['arr_interval']\n",
    "sns.catplot(kind='box', data=df, x='route', y='interval_diff', hue='direction');"
   ]
  },
  {
   "cell_type": "code",
   "execution_count": 25,
   "id": "98e29988",
   "metadata": {},
   "outputs": [
    {
     "data": {
      "image/png": "[encoded data removed]",
      "text/plain": [
       "<Figure size 588.625x500 with 1 Axes>"
      ]
     },
     "metadata": {},
     "output_type": "display_data"
    }
   ],
   "source": [
    "sns.catplot(kind='box', data=df, x='route', y='late', hue='direction')\n",
    "plt.axhline(y=5, color='red', linestyle='--');"
   ]
  },
  {
   "cell_type": "markdown",
   "id": "73a26c55-846b-4e4a-87d5-52f2a048503b",
   "metadata": {},
   "source": [
    "#### Можно, что либо сказать о маршрутах автобусов содержательно?"
   ]
  },
  {
   "cell_type": "markdown",
   "id": "46d43673",
   "metadata": {},
   "source": [
    "*По первому графику:*\n",
    "\n",
    "*Более высокий межквартильный размах для автобусов А на север означает, что фактические интервалы прибытия этих автобусов более изменчивы, чем интервалы для автобусов В и С. То есть пассажирам автобусов А на север следует ожидать большей неопределенности. С другой стороны, если пассажиры едут на юг, то ситуация в точности обратная*\n",
    "\n",
    "*Медиана около нуля предполагает, что нет значительных системных отклонений в исполнении расписания. Она указывает на то, что фактические интервалы прибытия автобусов, как правило, соответствуют запланированным*\n",
    "\n",
    "*По второму графику:*\n",
    "\n",
    "*Более высокий межквартильный размах для автобусов А на север означает, что время опоздания этих автобусов более изменчиво, чем опоздание автобусов В и С. То есть пассажиры, пользующиеся автобусами А на север, могут столкнуться с более значительными задержками или ранним прибытием. С другой стороны, если пассажиры едут на юг, то ситуация в точности обратная*\n",
    "\n",
    "*Медиана около нуля говорит нам, что, в целом, система общественного транспорта работает довольно эффективно, так как большинство автобусов прибывают близко к запланированному времени (половина автобусов опаздывает не более, чем на 5 минут)*\n",
    "\n",
    "**Скорее всего, депо находится на юге, так как опаздание автобусов в северном направлении больше соответсвует расписанию.**"
   ]
  },
  {
   "cell_type": "markdown",
   "id": "4a954370-dc83-404f-8f72-b08a7c0432e3",
   "metadata": {},
   "source": [
    "## Задание финальное ... для тех кто может\n",
    "Давайте попробуем заполнить пропущенные данные в расписании  - `df_null`. Как это сделать правильно?"
   ]
  },
  {
   "cell_type": "code",
   "execution_count": 29,
   "id": "0641b768",
   "metadata": {},
   "outputs": [],
   "source": [
    "df_null['arrival'] = df_null['data'] + ' ' + df_null['actual']\n",
    "df_null['arrival'] = df_null['arrival'].apply(lambda x: datetime.strptime(x, '%Y-%m-%d %H:%M:%S'))\n",
    "df_full = pd.concat([df, df_null], join='outer')"
   ]
  },
  {
   "cell_type": "code",
   "execution_count": 30,
   "id": "233fabdb",
   "metadata": {},
   "outputs": [],
   "source": [
    "df_full.reset_index(drop=True, inplace=True)\n",
    "df_full_sorted = df_full.reset_index().set_index(['route', 'direction']).sort_values(['route', 'direction', 'arrival'])\n",
    "index_of_null = df_full_sorted[df_full_sorted['table'].isna()]['index'].values\n",
    "df_full_sorted['table'] = df_full_sorted['table'].interpolate(method='linear',axis=0)\n",
    "df_full_sorted = df_full_sorted.reset_index().set_index('index').sort_index()"
   ]
  },
  {
   "cell_type": "code",
   "execution_count": 31,
   "id": "1f5b2198",
   "metadata": {},
   "outputs": [
    {
     "data": {
      "text/html": [
       "<div>\n",
       "<style scoped>\n",
       "    .dataframe tbody tr th:only-of-type {\n",
       "        vertical-align: middle;\n",
       "    }\n",
       "\n",
       "    .dataframe tbody tr th {\n",
       "        vertical-align: top;\n",
       "    }\n",
       "\n",
       "    .dataframe thead th {\n",
       "        text-align: right;\n",
       "    }\n",
       "</style>\n",
       "<table border=\"1\" class=\"dataframe\">\n",
       "  <thead>\n",
       "    <tr style=\"text-align: right;\">\n",
       "      <th></th>\n",
       "      <th>data</th>\n",
       "      <th>route</th>\n",
       "      <th>direction</th>\n",
       "      <th>scheduled</th>\n",
       "      <th>actual</th>\n",
       "    </tr>\n",
       "  </thead>\n",
       "  <tbody>\n",
       "    <tr>\n",
       "      <th>383</th>\n",
       "      <td>2016-04-01</td>\n",
       "      <td>A</td>\n",
       "      <td>south</td>\n",
       "      <td>15:58:26</td>\n",
       "      <td>16:00:57</td>\n",
       "    </tr>\n",
       "    <tr>\n",
       "      <th>471</th>\n",
       "      <td>2016-03-31</td>\n",
       "      <td>A</td>\n",
       "      <td>south</td>\n",
       "      <td>15:28:26</td>\n",
       "      <td>15:28:05</td>\n",
       "    </tr>\n",
       "    <tr>\n",
       "      <th>588</th>\n",
       "      <td>2016-03-30</td>\n",
       "      <td>A</td>\n",
       "      <td>south</td>\n",
       "      <td>14:52:56</td>\n",
       "      <td>14:52:36</td>\n",
       "    </tr>\n",
       "    <tr>\n",
       "      <th>599</th>\n",
       "      <td>2016-03-30</td>\n",
       "      <td>A</td>\n",
       "      <td>south</td>\n",
       "      <td>15:14:56</td>\n",
       "      <td>15:12:06</td>\n",
       "    </tr>\n",
       "    <tr>\n",
       "      <th>685</th>\n",
       "      <td>2016-03-29</td>\n",
       "      <td>A</td>\n",
       "      <td>south</td>\n",
       "      <td>17:53:56</td>\n",
       "      <td>17:56:29</td>\n",
       "    </tr>\n",
       "    <tr>\n",
       "      <th>...</th>\n",
       "      <td>...</td>\n",
       "      <td>...</td>\n",
       "      <td>...</td>\n",
       "      <td>...</td>\n",
       "      <td>...</td>\n",
       "    </tr>\n",
       "    <tr>\n",
       "      <th>37327</th>\n",
       "      <td>2016-05-10</td>\n",
       "      <td>B</td>\n",
       "      <td>north</td>\n",
       "      <td>15:24:29</td>\n",
       "      <td>15:25:47</td>\n",
       "    </tr>\n",
       "    <tr>\n",
       "      <th>37328</th>\n",
       "      <td>2016-05-10</td>\n",
       "      <td>B</td>\n",
       "      <td>north</td>\n",
       "      <td>17:45:29</td>\n",
       "      <td>17:44:05</td>\n",
       "    </tr>\n",
       "    <tr>\n",
       "      <th>37570</th>\n",
       "      <td>2016-05-12</td>\n",
       "      <td>B</td>\n",
       "      <td>north</td>\n",
       "      <td>18:28:58</td>\n",
       "      <td>18:27:55</td>\n",
       "    </tr>\n",
       "    <tr>\n",
       "      <th>37670</th>\n",
       "      <td>2016-05-13</td>\n",
       "      <td>B</td>\n",
       "      <td>north</td>\n",
       "      <td>19:07:25</td>\n",
       "      <td>19:04:25</td>\n",
       "    </tr>\n",
       "    <tr>\n",
       "      <th>39107</th>\n",
       "      <td>2016-05-27</td>\n",
       "      <td>B</td>\n",
       "      <td>north</td>\n",
       "      <td>14:50:29</td>\n",
       "      <td>14:51:34</td>\n",
       "    </tr>\n",
       "  </tbody>\n",
       "</table>\n",
       "<p>240 rows × 5 columns</p>\n",
       "</div>"
      ],
      "text/plain": [
       "             data route direction scheduled    actual\n",
       "383    2016-04-01     A     south  15:58:26  16:00:57\n",
       "471    2016-03-31     A     south  15:28:26  15:28:05\n",
       "588    2016-03-30     A     south  14:52:56  14:52:36\n",
       "599    2016-03-30     A     south  15:14:56  15:12:06\n",
       "685    2016-03-29     A     south  17:53:56  17:56:29\n",
       "...           ...   ...       ...       ...       ...\n",
       "37327  2016-05-10     B     north  15:24:29  15:25:47\n",
       "37328  2016-05-10     B     north  17:45:29  17:44:05\n",
       "37570  2016-05-12     B     north  18:28:58  18:27:55\n",
       "37670  2016-05-13     B     north  19:07:25  19:04:25\n",
       "39107  2016-05-27     B     north  14:50:29  14:51:34\n",
       "\n",
       "[240 rows x 5 columns]"
      ]
     },
     "execution_count": 31,
     "metadata": {},
     "output_type": "execute_result"
    }
   ],
   "source": [
    "temp = df_full_sorted.iloc[-240:]\n",
    "temp['scheduled'] = temp['table'].apply(lambda x: x.strftime(\"%H:%M:%S\"))\n",
    "df_null['scheduled'] = temp['scheduled'].values\n",
    "df_null.drop(columns='arrival', inplace=True)\n",
    "df_null"
   ]
  }
 ],
 "metadata": {
  "kernelspec": {
   "display_name": "Python 3 (ipykernel)",
   "language": "python",
   "name": "python3"
  },
  "language_info": {
   "codemirror_mode": {
    "name": "ipython",
    "version": 3
   },
   "file_extension": ".py",
   "mimetype": "text/x-python",
   "name": "python",
   "nbconvert_exporter": "python",
   "pygments_lexer": "ipython3",
   "version": "3.12.4"
  }
 },
 "nbformat": 4,
 "nbformat_minor": 5
}
